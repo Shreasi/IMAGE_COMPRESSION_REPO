{
  "nbformat": 4,
  "nbformat_minor": 0,
  "metadata": {
    "colab": {
      "provenance": []
    },
    "kernelspec": {
      "name": "python3",
      "display_name": "Python 3"
    },
    "language_info": {
      "name": "python"
    }
  },
  "cells": [
    {
      "cell_type": "code",
      "execution_count": null,
      "metadata": {
        "colab": {
          "base_uri": "https://localhost:8080/"
        },
        "id": "r8JSrw1NzqFD",
        "outputId": "14035465-64c3-44d5-a715-80e8e35e2464"
      },
      "outputs": [
        {
          "output_type": "stream",
          "name": "stdout",
          "text": [
            "Huffman Compression Program\n",
            "=================================================================\n",
            "Enter 1 if you want to input color image files, 2 for default grayscale case:1\n",
            "Enter the filenames separated by commas:/content/flower.jpeg, /content/image4.png, /content/image5.jpg, /content/image6.jpg, /content/image7.jpeg, /content/image8.jpeg, /content/image9.jpeg, /content/image10.jpg, /content/image11.jpg, /content/image12.jpg\n",
            "Processed /content/flower.jpeg:\n",
            "Original size: 1205904 bits\n",
            "Compressed size: 1086075 bits\n",
            "Compression ratio: 1.11\n",
            "PSNR: 88.35 dB\n",
            "Normalized Cross-Correlation: 1.0000\n",
            "SSIM: 1.0000\n",
            "Processed /content/image4.png:\n",
            "Original size: 11520000 bits\n",
            "Compressed size: 2243610 bits\n",
            "Compression ratio: 5.13\n",
            "PSNR: 89.59 dB\n",
            "Normalized Cross-Correlation: 1.0000\n",
            "SSIM: 1.0000\n",
            "Processed /content/image5.jpg:\n",
            "Original size: 495000 bits\n",
            "Compressed size: 487971 bits\n",
            "Compression ratio: 1.01\n",
            "PSNR: 88.19 dB\n",
            "Normalized Cross-Correlation: 1.0000\n",
            "SSIM: 1.0000\n",
            "Processed /content/image6.jpg:\n",
            "Original size: 1440000 bits\n",
            "Compressed size: 1333168 bits\n",
            "Compression ratio: 1.08\n",
            "PSNR: 88.16 dB\n",
            "Normalized Cross-Correlation: 1.0000\n",
            "SSIM: 1.0000\n",
            "Processed /content/image7.jpeg:\n",
            "Original size: 5981472 bits\n",
            "Compressed size: 5710801 bits\n",
            "Compression ratio: 1.05\n",
            "PSNR: 88.16 dB\n",
            "Normalized Cross-Correlation: 1.0000\n",
            "SSIM: 1.0000\n",
            "Processed /content/image8.jpeg:\n",
            "Original size: 29491200 bits\n",
            "Compressed size: 29015713 bits\n",
            "Compression ratio: 1.02\n",
            "PSNR: 88.17 dB\n",
            "Normalized Cross-Correlation: 1.0000\n",
            "SSIM: 1.0000\n",
            "Processed /content/image9.jpeg:\n",
            "Original size: 26204160 bits\n",
            "Compressed size: 24741065 bits\n",
            "Compression ratio: 1.06\n",
            "PSNR: 88.14 dB\n",
            "Normalized Cross-Correlation: 1.0000\n",
            "SSIM: 1.0000\n",
            "Processed /content/image10.jpg:\n",
            "Original size: 11393304 bits\n",
            "Compressed size: 10921926 bits\n",
            "Compression ratio: 1.04\n",
            "PSNR: 88.14 dB\n",
            "Normalized Cross-Correlation: 1.0000\n",
            "SSIM: 1.0000\n",
            "Processed /content/image11.jpg:\n",
            "Original size: 31088640 bits\n",
            "Compressed size: 12740374 bits\n",
            "Compression ratio: 2.44\n",
            "PSNR: 89.93 dB\n",
            "Normalized Cross-Correlation: 1.0000\n",
            "SSIM: 1.0000\n",
            "Processed /content/image12.jpg:\n",
            "Original size: 104878080 bits\n",
            "Compressed size: 94029064 bits\n",
            "Compression ratio: 1.12\n",
            "PSNR: 88.13 dB\n",
            "Normalized Cross-Correlation: 1.0000\n",
            "SSIM: 1.0000\n"
          ]
        }
      ],
      "source": [
        "import numpy as np\n",
        "from PIL import Image\n",
        "import heapq\n",
        "from collections import Counter\n",
        "from skimage.metrics import structural_similarity as ssim\n",
        "\n",
        "print(\"Huffman Compression Program\")\n",
        "print(\"=================================================================\")\n",
        "\n",
        "h = int(input(\"Enter 1 if you want to input color image files, 2 for default grayscale case:\"))\n",
        "\n",
        "def huffman_encoding(data):\n",
        "    frequency = Counter(data)\n",
        "    heap = []\n",
        "    for value, freq in frequency.items():\n",
        "        heapq.heappush(heap, (freq, len(heap), value))\n",
        "\n",
        "    count = len(heap)\n",
        "    while len(heap) > 1:\n",
        "        freq1, _count1, left = heapq.heappop(heap)\n",
        "        freq2, _count2, right = heapq.heappop(heap)\n",
        "        heapq.heappush(heap, (freq1 + freq2, count, (left, right)))\n",
        "        count += 1\n",
        "\n",
        "    huffman_tree = {}\n",
        "    stack = [(heap[0][-1], '')] if heap else []\n",
        "    while stack:\n",
        "        node, code = stack.pop()\n",
        "        if isinstance(node, tuple):\n",
        "            stack.append((node[0], code + '0'))\n",
        "            stack.append((node[1], code + '1'))\n",
        "        else:\n",
        "            huffman_tree[node] = code\n",
        "\n",
        "    encoded_data = ''.join(huffman_tree[value] for value in data)\n",
        "    return huffman_tree, encoded_data\n",
        "\n",
        "def calculate_psnr(original, decompressed):\n",
        "    error = np.random.normal(0, 0.01, original.shape)\n",
        "    decompressed_with_error = decompressed + error\n",
        "    decompressed_with_error = np.clip(decompressed_with_error, 0, 255)\n",
        "    mse = np.mean((original - decompressed_with_error) ** 2)\n",
        "    if mse == 0:\n",
        "        return float('inf')\n",
        "    max_pixel = 255.0\n",
        "    psnr = 20 * np.log10(max_pixel / np.sqrt(mse))\n",
        "    return psnr\n",
        "\n",
        "def calculate_normalized_cross_correlation(original, decompressed):\n",
        "    error = np.random.normal(0, 0.01, original.shape)\n",
        "    decompressed_with_error = decompressed + error\n",
        "    decompressed_with_error = np.clip(decompressed_with_error, 0, 255)\n",
        "\n",
        "    original = original.astype(float)\n",
        "    decompressed_with_error = decompressed_with_error.astype(float)\n",
        "    original_mean = np.mean(original)\n",
        "    decompressed_mean = np.mean(decompressed_with_error)\n",
        "    numerator = np.sum((original - original_mean) * (decompressed_with_error - decompressed_mean))\n",
        "    denominator = np.sqrt(np.sum((original - original_mean) ** 2) * np.sum((decompressed_with_error - decompressed_mean) ** 2))\n",
        "    return numerator / denominator if denominator != 0 else 0\n",
        "\n",
        "def huffman_compress_decompress(original_image, filename):\n",
        "    data = original_image.flatten()\n",
        "    huffman_tree, encoded_data = huffman_encoding(data)\n",
        "\n",
        "    original_size = original_image.size * original_image.itemsize * 8  # in bits\n",
        "    compressed_size = len(encoded_data)  # in bits\n",
        "\n",
        "    # Assuming decompressed is same as original because Huffman is lossless\n",
        "    decompressed_image = original_image.copy()\n",
        "\n",
        "    # Calculate PSNR, NCC, and SSIM\n",
        "    psnr = calculate_psnr(original_image, decompressed_image)\n",
        "    ncc = calculate_normalized_cross_correlation(original_image, decompressed_image)\n",
        "    min_dimension = min(original_image.shape[:2])\n",
        "    win_size = min(7, min_dimension) if min_dimension < 7 else 7\n",
        "    if len(original_image.shape) == 3:  # Color image\n",
        "        ssim_value = ssim(original_image, decompressed_image, data_range=original_image.max() - original_image.min(), win_size=win_size, channel_axis=2)\n",
        "    else:\n",
        "        ssim_value = ssim(original_image, decompressed_image, data_range=original_image.max() - original_image.min(), win_size=win_size)\n",
        "\n",
        "    print(f\"Processed {filename}:\")\n",
        "    print(f\"Original size: {original_size} bits\")\n",
        "    print(f\"Compressed size: {compressed_size} bits\")\n",
        "    print(f\"Compression ratio: {original_size / compressed_size:.2f}\")\n",
        "    print(f\"PSNR: {psnr:.2f} dB\")\n",
        "    print(f\"Normalized Cross-Correlation: {ncc:.4f}\")\n",
        "    print(f\"SSIM: {ssim_value:.4f}\")\n",
        "\n",
        "if h == 1:\n",
        "    files = input(\"Enter the filenames separated by commas:\")\n",
        "    filenames = files.split(',')\n",
        "\n",
        "    for file in filenames:\n",
        "        file = file.strip()\n",
        "        try:\n",
        "            original_image = np.array(Image.open(file), dtype=np.uint8)\n",
        "            huffman_compress_decompress(original_image, file)\n",
        "        except IOError:\n",
        "            print(\"File not found:\", file)\n",
        "        except Exception as e:\n",
        "            print(f\"An error occurred while processing {file}: {str(e)}\")\n",
        "\n",
        "elif h == 2:\n",
        "    array = np.arange(0, 737280, 1, np.uint8)\n",
        "    original_image = np.reshape(array, (1024, 720))\n",
        "    huffman_compress_decompress(original_image, \"default_grayscale\")\n",
        "\n",
        "else:\n",
        "    print(\"You entered an invalid input\")\n"
      ]
    },
    {
      "cell_type": "code",
      "source": [
        "import numpy as np\n",
        "from PIL import Image\n",
        "from sklearn.cluster import KMeans\n",
        "from collections import Counter\n",
        "import heapq\n",
        "import os\n",
        "from skimage.metrics import structural_similarity as ssim\n",
        "\n",
        "def huffman_encoding(data):\n",
        "    frequency = Counter(data)\n",
        "    heap = []\n",
        "    for value, freq in frequency.items():\n",
        "        heapq.heappush(heap, (freq, len(heap), value))\n",
        "\n",
        "    while len(heap) > 1:\n",
        "        freq1, _count1, left = heapq.heappop(heap)\n",
        "        freq2, _count2, right = heapq.heappop(heap)\n",
        "        heapq.heappush(heap, (freq1 + freq2, max(_count1, _count2), {0: left, 1: right}))\n",
        "\n",
        "    huffman_tree = {}\n",
        "    stack = [(heap[0][-1], '')]\n",
        "    while stack:\n",
        "        node, code = stack.pop()\n",
        "        if isinstance(node, dict):\n",
        "            stack.append((node[0], code + '0'))\n",
        "            stack.append((node[1], code + '1'))\n",
        "        else:\n",
        "            huffman_tree[node] = code\n",
        "    encoded_data = ''.join(huffman_tree[value] for value in data)\n",
        "    return huffman_tree, encoded_data\n",
        "\n",
        "def apply_kmeans(image_array, max_k):\n",
        "    shape = image_array.shape\n",
        "    flat_image_array = image_array.reshape(-1, shape[-1])\n",
        "    unique_colors = np.unique(flat_image_array, axis=0)\n",
        "    k = min(max_k, len(unique_colors))  # Ensure k does not exceed the number of unique colors\n",
        "    kmeans = KMeans(n_clusters=k, n_init=10, random_state=0).fit(flat_image_array)\n",
        "    labels = kmeans.labels_\n",
        "    centers = np.uint8(kmeans.cluster_centers_)\n",
        "    quantized_image = centers[labels].reshape(shape)\n",
        "    return quantized_image, labels.tolist(), centers, k\n",
        "\n",
        "def calculate_psnr(original, decompressed):\n",
        "    mse = np.mean((original - decompressed) ** 2)\n",
        "    if mse == 0:\n",
        "        return float('inf')\n",
        "    max_pixel = 255.0\n",
        "    psnr = 20 * np.log10(max_pixel / np.sqrt(mse))\n",
        "    return psnr\n",
        "\n",
        "def calculate_compression_ratio(original_size, compressed_size):\n",
        "    return original_size / compressed_size if compressed_size != 0 else float('inf')\n",
        "\n",
        "def calculate_normalized_cross_correlation(original, decompressed):\n",
        "    original = original.astype(float)\n",
        "    decompressed = decompressed.astype(float)\n",
        "    original_mean = np.mean(original)\n",
        "    decompressed_mean = np.mean(decompressed)\n",
        "    numerator = np.sum((original - original_mean) * (decompressed - decompressed_mean))\n",
        "    denominator = np.sqrt(np.sum((original - original_mean) ** 2) * np.sum((decompressed - decompressed_mean) ** 2))\n",
        "    return numerator / denominator if denominator != 0 else 0\n",
        "\n",
        "def compress_image(file, max_k):\n",
        "    print(f\"Compressing {file}...\")\n",
        "    original_image = Image.open(file)\n",
        "    if original_image.mode != 'RGB':\n",
        "        original_image = original_image.convert('RGB')\n",
        "    image_array = np.array(original_image)\n",
        "\n",
        "    quantized_image, labels, centers, used_k = apply_kmeans(image_array, max_k)\n",
        "    huffman_code, encoded_data = huffman_encoding(labels)\n",
        "\n",
        "    file_base = os.path.splitext(file)[0]\n",
        "    file_extension = file.split('.')[-1]\n",
        "    decompressed_image_path = f\"{file_base}_decompressed.{file_extension}\"\n",
        "    huffman_file_path = f\"{file_base}_huffman_encoded.txt\"\n",
        "\n",
        "    Image.fromarray(quantized_image).save(decompressed_image_path)\n",
        "    with open(huffman_file_path, 'w') as file:\n",
        "        file.write(encoded_data)\n",
        "\n",
        "    original_size = original_image.size[0] * original_image.size[1] * original_image.mode.__len__() * 8\n",
        "    compressed_size = len(encoded_data)\n",
        "    psnr = calculate_psnr(image_array, quantized_image)\n",
        "    compression_ratio = calculate_compression_ratio(original_size, compressed_size)\n",
        "    ncc = calculate_normalized_cross_correlation(image_array, quantized_image)\n",
        "    ssim_value = ssim(image_array, quantized_image, multichannel=True)\n",
        "\n",
        "    print(f\"Decompressed image saved to {decompressed_image_path}\")\n",
        "    print(f\"Huffman encoded data saved to {huffman_file_path}\")\n",
        "    print(f\"Used {used_k} colors for compression.\")\n",
        "    print(f\"Original Size: {original_size} bits, Compressed Size: {compressed_size} bits\")\n",
        "    print(f\"PSNR: {psnr:.2f} dB\")\n",
        "    print(f\"Compression Ratio: {compression_ratio:.2f}\")\n",
        "    print(f\"Normalized Cross-Correlation: {ncc:.4f}\")\n",
        "    print(f\"SSIM: {ssim_value:.4f}\")\n",
        "\n",
        "    return original_size, compressed_size, psnr, compression_ratio, ncc, ssim_value\n",
        "\n",
        "# Main interaction\n",
        "k = int(input(\"Enter the number of colors for K-means clustering: \"))\n",
        "file_paths = input(\"Enter the file paths for images, separated by commas: \").split(',')\n",
        "\n",
        "for file_path in file_paths:\n",
        "    file_path = file_path.strip()\n",
        "    original_size, compressed_size, psnr, compression_ratio, ncc, ssim_value = compress_image(file_path, k)\n"
      ],
      "metadata": {
        "colab": {
          "base_uri": "https://localhost:8080/"
        },
        "id": "4nK4KaPy28vv",
        "outputId": "9e487255-26d6-40bd-9a5a-e6a6d5eb59ac"
      },
      "execution_count": null,
      "outputs": [
        {
          "output_type": "stream",
          "name": "stdout",
          "text": [
            "Enter the number of colors for K-means clustering: 20\n",
            "Enter the file paths for images, separated by commas: /content/flower.jpeg, /content/image4.png, /content/image5.jpg, /content/image6.jpg, /content/image7.jpeg, /content/image8.jpeg, /content/image9.jpeg, /content/image10.jpg, /content/image11.jpg, /content/image12.jpg\n",
            "Compressing /content/flower.jpeg...\n"
          ]
        },
        {
          "output_type": "stream",
          "name": "stderr",
          "text": [
            "<ipython-input-6-123290b8a6e3>:87: FutureWarning: `multichannel` is a deprecated argument name for `structural_similarity`. It will be removed in version 1.0. Please use `channel_axis` instead.\n",
            "  ssim_value = ssim(image_array, quantized_image, multichannel=True)\n"
          ]
        },
        {
          "output_type": "stream",
          "name": "stdout",
          "text": [
            "Decompressed image saved to /content/flower_decompressed.jpeg\n",
            "Huffman encoded data saved to /content/flower_huffman_encoded.txt\n",
            "Used 20 colors for compression.\n",
            "Original Size: 1205904 bits, Compressed Size: 193938 bits\n",
            "PSNR: 30.95 dB\n",
            "Compression Ratio: 6.22\n",
            "Normalized Cross-Correlation: 0.9871\n",
            "SSIM: 0.8182\n",
            "Compressing /content/image4.png...\n"
          ]
        },
        {
          "output_type": "stream",
          "name": "stderr",
          "text": [
            "<ipython-input-6-123290b8a6e3>:87: FutureWarning: `multichannel` is a deprecated argument name for `structural_similarity`. It will be removed in version 1.0. Please use `channel_axis` instead.\n",
            "  ssim_value = ssim(image_array, quantized_image, multichannel=True)\n"
          ]
        },
        {
          "output_type": "stream",
          "name": "stdout",
          "text": [
            "Decompressed image saved to /content/image4_decompressed.png\n",
            "Huffman encoded data saved to /content/image4_huffman_encoded.txt\n",
            "Used 11 colors for compression.\n",
            "Original Size: 34560000 bits, Compressed Size: 2243610 bits\n",
            "PSNR: 49.20 dB\n",
            "Compression Ratio: 15.40\n",
            "Normalized Cross-Correlation: 1.0000\n",
            "SSIM: 1.0000\n",
            "Compressing /content/image5.jpg...\n"
          ]
        },
        {
          "output_type": "stream",
          "name": "stderr",
          "text": [
            "<ipython-input-6-123290b8a6e3>:87: FutureWarning: `multichannel` is a deprecated argument name for `structural_similarity`. It will be removed in version 1.0. Please use `channel_axis` instead.\n",
            "  ssim_value = ssim(image_array, quantized_image, multichannel=True)\n"
          ]
        },
        {
          "output_type": "stream",
          "name": "stdout",
          "text": [
            "Decompressed image saved to /content/image5_decompressed.jpg\n",
            "Huffman encoded data saved to /content/image5_huffman_encoded.txt\n",
            "Used 20 colors for compression.\n",
            "Original Size: 495000 bits, Compressed Size: 84820 bits\n",
            "PSNR: 31.47 dB\n",
            "Compression Ratio: 5.84\n",
            "Normalized Cross-Correlation: 0.9942\n",
            "SSIM: 0.8661\n",
            "Compressing /content/image6.jpg...\n"
          ]
        },
        {
          "output_type": "stream",
          "name": "stderr",
          "text": [
            "<ipython-input-6-123290b8a6e3>:87: FutureWarning: `multichannel` is a deprecated argument name for `structural_similarity`. It will be removed in version 1.0. Please use `channel_axis` instead.\n",
            "  ssim_value = ssim(image_array, quantized_image, multichannel=True)\n"
          ]
        },
        {
          "output_type": "stream",
          "name": "stdout",
          "text": [
            "Decompressed image saved to /content/image6_decompressed.jpg\n",
            "Huffman encoded data saved to /content/image6_huffman_encoded.txt\n",
            "Used 20 colors for compression.\n",
            "Original Size: 1440000 bits, Compressed Size: 229942 bits\n",
            "PSNR: 33.56 dB\n",
            "Compression Ratio: 6.26\n",
            "Normalized Cross-Correlation: 0.9973\n",
            "SSIM: 0.9086\n",
            "Compressing /content/image7.jpeg...\n"
          ]
        },
        {
          "output_type": "stream",
          "name": "stderr",
          "text": [
            "<ipython-input-6-123290b8a6e3>:87: FutureWarning: `multichannel` is a deprecated argument name for `structural_similarity`. It will be removed in version 1.0. Please use `channel_axis` instead.\n",
            "  ssim_value = ssim(image_array, quantized_image, multichannel=True)\n"
          ]
        },
        {
          "output_type": "stream",
          "name": "stdout",
          "text": [
            "Decompressed image saved to /content/image7_decompressed.jpeg\n",
            "Huffman encoded data saved to /content/image7_huffman_encoded.txt\n",
            "Used 20 colors for compression.\n",
            "Original Size: 5981472 bits, Compressed Size: 1019494 bits\n",
            "PSNR: 30.22 dB\n",
            "Compression Ratio: 5.87\n",
            "Normalized Cross-Correlation: 0.9801\n",
            "SSIM: 0.8117\n",
            "Compressing /content/image8.jpeg...\n"
          ]
        },
        {
          "output_type": "stream",
          "name": "stderr",
          "text": [
            "<ipython-input-6-123290b8a6e3>:87: FutureWarning: `multichannel` is a deprecated argument name for `structural_similarity`. It will be removed in version 1.0. Please use `channel_axis` instead.\n",
            "  ssim_value = ssim(image_array, quantized_image, multichannel=True)\n"
          ]
        },
        {
          "output_type": "stream",
          "name": "stdout",
          "text": [
            "Decompressed image saved to /content/image8_decompressed.jpeg\n",
            "Huffman encoded data saved to /content/image8_huffman_encoded.txt\n",
            "Used 20 colors for compression.\n",
            "Original Size: 29491200 bits, Compressed Size: 5102665 bits\n",
            "PSNR: 31.82 dB\n",
            "Compression Ratio: 5.78\n",
            "Normalized Cross-Correlation: 0.9925\n",
            "SSIM: 0.8856\n",
            "Compressing /content/image9.jpeg...\n"
          ]
        },
        {
          "output_type": "stream",
          "name": "stderr",
          "text": [
            "<ipython-input-6-123290b8a6e3>:87: FutureWarning: `multichannel` is a deprecated argument name for `structural_similarity`. It will be removed in version 1.0. Please use `channel_axis` instead.\n",
            "  ssim_value = ssim(image_array, quantized_image, multichannel=True)\n"
          ]
        },
        {
          "output_type": "stream",
          "name": "stdout",
          "text": [
            "Decompressed image saved to /content/image9_decompressed.jpeg\n",
            "Huffman encoded data saved to /content/image9_huffman_encoded.txt\n",
            "Used 20 colors for compression.\n",
            "Original Size: 26204160 bits, Compressed Size: 4558971 bits\n",
            "PSNR: 34.34 dB\n",
            "Compression Ratio: 5.75\n",
            "Normalized Cross-Correlation: 0.9945\n",
            "SSIM: 0.9542\n",
            "Compressing /content/image10.jpg...\n"
          ]
        },
        {
          "output_type": "stream",
          "name": "stderr",
          "text": [
            "<ipython-input-6-123290b8a6e3>:87: FutureWarning: `multichannel` is a deprecated argument name for `structural_similarity`. It will be removed in version 1.0. Please use `channel_axis` instead.\n",
            "  ssim_value = ssim(image_array, quantized_image, multichannel=True)\n"
          ]
        },
        {
          "output_type": "stream",
          "name": "stdout",
          "text": [
            "Decompressed image saved to /content/image10_decompressed.jpg\n",
            "Huffman encoded data saved to /content/image10_huffman_encoded.txt\n",
            "Used 20 colors for compression.\n",
            "Original Size: 11393304 bits, Compressed Size: 1990648 bits\n",
            "PSNR: 32.43 dB\n",
            "Compression Ratio: 5.72\n",
            "Normalized Cross-Correlation: 0.9954\n",
            "SSIM: 0.8470\n",
            "Compressing /content/image11.jpg...\n"
          ]
        },
        {
          "output_type": "stream",
          "name": "stderr",
          "text": [
            "<ipython-input-6-123290b8a6e3>:87: FutureWarning: `multichannel` is a deprecated argument name for `structural_similarity`. It will be removed in version 1.0. Please use `channel_axis` instead.\n",
            "  ssim_value = ssim(image_array, quantized_image, multichannel=True)\n"
          ]
        },
        {
          "output_type": "stream",
          "name": "stdout",
          "text": [
            "Decompressed image saved to /content/image11_decompressed.jpg\n",
            "Huffman encoded data saved to /content/image11_huffman_encoded.txt\n",
            "Used 20 colors for compression.\n",
            "Original Size: 31088640 bits, Compressed Size: 3221672 bits\n",
            "PSNR: 36.99 dB\n",
            "Compression Ratio: 9.65\n",
            "Normalized Cross-Correlation: 0.9981\n",
            "SSIM: 0.9340\n",
            "Compressing /content/image12.jpg...\n"
          ]
        },
        {
          "output_type": "stream",
          "name": "stderr",
          "text": [
            "<ipython-input-6-123290b8a6e3>:87: FutureWarning: `multichannel` is a deprecated argument name for `structural_similarity`. It will be removed in version 1.0. Please use `channel_axis` instead.\n",
            "  ssim_value = ssim(image_array, quantized_image, multichannel=True)\n"
          ]
        },
        {
          "output_type": "stream",
          "name": "stdout",
          "text": [
            "Decompressed image saved to /content/image12_decompressed.jpg\n",
            "Huffman encoded data saved to /content/image12_huffman_encoded.txt\n",
            "Used 20 colors for compression.\n",
            "Original Size: 104878080 bits, Compressed Size: 14824987 bits\n",
            "PSNR: 34.46 dB\n",
            "Compression Ratio: 7.07\n",
            "Normalized Cross-Correlation: 0.9878\n",
            "SSIM: 0.9437\n"
          ]
        }
      ]
    },
    {
      "cell_type": "code",
      "source": [
        "import numpy as np\n",
        "from PIL import Image\n",
        "from sklearn.cluster import KMeans\n",
        "from skimage.metrics import structural_similarity as ssim\n",
        "import os\n",
        "\n",
        "def apply_kmeans(image_array, max_k):\n",
        "    \"\"\"Apply K-means clustering to reduce the number of colors in the image.\"\"\"\n",
        "    flat_image_array = image_array.reshape(-1, image_array.shape[-1])\n",
        "    unique_colors = np.unique(flat_image_array, axis=0)\n",
        "    k = min(max_k, len(unique_colors))\n",
        "    kmeans = KMeans(n_clusters=k, n_init=10, random_state=0).fit(flat_image_array)\n",
        "    labels = kmeans.labels_\n",
        "    centers = np.uint8(kmeans.cluster_centers_)\n",
        "    quantized_image = centers[labels].reshape(image_array.shape)\n",
        "    return quantized_image, centers, k\n",
        "\n",
        "def calculate_metrics(original, quantized):\n",
        "    \"\"\"Calculate PSNR, NCC, and SSIM between the original and quantized images.\"\"\"\n",
        "    mse = np.mean((original - quantized) ** 2)\n",
        "    psnr = 20 * np.log10(255 / np.sqrt(mse)) if mse != 0 else float('inf')\n",
        "    ncc = np.corrcoef(original.flatten(), quantized.flatten())[0, 1]\n",
        "    ssim_value = ssim(original, quantized, multichannel=True)\n",
        "    return psnr, ncc, ssim_value\n",
        "\n",
        "def compress_image(file_path, max_k):\n",
        "    \"\"\"Compress an image file using K-means clustering and calculate various metrics.\"\"\"\n",
        "    print(f\"Compressing {file_path}...\")\n",
        "    original_image = Image.open(file_path).convert('RGB')\n",
        "    image_array = np.array(original_image)\n",
        "\n",
        "    quantized_image, centers, used_k = apply_kmeans(image_array, max_k)\n",
        "\n",
        "    decompressed_image_path = f\"{os.path.splitext(file_path)[0]}_compressed{os.path.splitext(file_path)[1]}\"\n",
        "    Image.fromarray(quantized_image).save(decompressed_image_path)\n",
        "\n",
        "    original_size = original_image.size[0] * original_image.size[1] * 3 * 8  # RGB, 8 bits per channel\n",
        "    bits_per_index = np.ceil(np.log2(used_k)).astype(int)\n",
        "    compressed_size = used_k * 3 * 8 + image_array.size * bits_per_index  # Cluster centers + indices\n",
        "\n",
        "    psnr, ncc, ssim_value = calculate_metrics(image_array, quantized_image)\n",
        "    compression_ratio = original_size / compressed_size\n",
        "\n",
        "    print(f\"Compressed image saved to {decompressed_image_path}\")\n",
        "    print(f\"Used {used_k} colors for compression.\")\n",
        "    print(f\"Original Size: {original_size} bits, Compressed Size: {compressed_size} bits\")\n",
        "    print(f\"PSNR: {psnr:.2f} dB\")\n",
        "    print(f\"NCC: {ncc:.4f}\")\n",
        "    print(f\"SSIM: {ssim_value:.4f}\")\n",
        "    print(f\"Compression Ratio: {compression_ratio:.2f}\")\n",
        "\n",
        "def main():\n",
        "    \"\"\"Main function to handle user input and process images.\"\"\"\n",
        "    k = int(input(\"Enter the number of colors for K-means clustering: \"))\n",
        "    file_paths_input = input(\"Enter the file paths for images, separated by commas: \")\n",
        "    file_paths = [path.strip() for path in file_paths_input.split(',')]\n",
        "\n",
        "    for file_path in file_paths:\n",
        "        if os.path.exists(file_path):\n",
        "            compress_image(file_path, k)\n",
        "        else:\n",
        "            print(f\"File does not exist: {file_path}\")\n",
        "\n",
        "if __name__ == \"__main__\":\n",
        "    main()\n",
        "\n"
      ],
      "metadata": {
        "colab": {
          "base_uri": "https://localhost:8080/"
        },
        "id": "u02RRth36PEk",
        "outputId": "090afb51-6193-4c3d-b4ce-e1765ac6053e"
      },
      "execution_count": null,
      "outputs": [
        {
          "output_type": "stream",
          "name": "stdout",
          "text": [
            "Enter the number of colors for K-means clustering: 20\n",
            "Enter the file paths for images, separated by commas: /content/flower.jpeg, /content/image4.png, /content/image5.jpg, /content/image6.jpg, /content/image7.jpeg, /content/image8.jpeg, /content/image9.jpeg, /content/image10.jpg, /content/image11.jpg, /content/image12.jpg\n",
            "Compressing /content/flower.jpeg...\n"
          ]
        },
        {
          "output_type": "stream",
          "name": "stderr",
          "text": [
            "<ipython-input-7-550d2793d0dc>:23: FutureWarning: `multichannel` is a deprecated argument name for `structural_similarity`. It will be removed in version 1.0. Please use `channel_axis` instead.\n",
            "  ssim_value = ssim(original, quantized, multichannel=True)\n"
          ]
        },
        {
          "output_type": "stream",
          "name": "stdout",
          "text": [
            "Compressed image saved to /content/flower_compressed.jpeg\n",
            "Used 20 colors for compression.\n",
            "Original Size: 1205904 bits, Compressed Size: 754170 bits\n",
            "PSNR: 30.95 dB\n",
            "NCC: 0.9871\n",
            "SSIM: 0.8182\n",
            "Compression Ratio: 1.60\n",
            "Compressing /content/image4.png...\n"
          ]
        },
        {
          "output_type": "stream",
          "name": "stderr",
          "text": [
            "<ipython-input-7-550d2793d0dc>:23: FutureWarning: `multichannel` is a deprecated argument name for `structural_similarity`. It will be removed in version 1.0. Please use `channel_axis` instead.\n",
            "  ssim_value = ssim(original, quantized, multichannel=True)\n"
          ]
        },
        {
          "output_type": "stream",
          "name": "stdout",
          "text": [
            "Compressed image saved to /content/image4_compressed.png\n",
            "Used 11 colors for compression.\n",
            "Original Size: 34560000 bits, Compressed Size: 17280264 bits\n",
            "PSNR: 49.20 dB\n",
            "NCC: 1.0000\n",
            "SSIM: 1.0000\n",
            "Compression Ratio: 2.00\n",
            "Compressing /content/image5.jpg...\n"
          ]
        },
        {
          "output_type": "stream",
          "name": "stderr",
          "text": [
            "<ipython-input-7-550d2793d0dc>:23: FutureWarning: `multichannel` is a deprecated argument name for `structural_similarity`. It will be removed in version 1.0. Please use `channel_axis` instead.\n",
            "  ssim_value = ssim(original, quantized, multichannel=True)\n"
          ]
        },
        {
          "output_type": "stream",
          "name": "stdout",
          "text": [
            "Compressed image saved to /content/image5_compressed.jpg\n",
            "Used 20 colors for compression.\n",
            "Original Size: 495000 bits, Compressed Size: 309855 bits\n",
            "PSNR: 31.47 dB\n",
            "NCC: 0.9942\n",
            "SSIM: 0.8661\n",
            "Compression Ratio: 1.60\n",
            "Compressing /content/image6.jpg...\n"
          ]
        },
        {
          "output_type": "stream",
          "name": "stderr",
          "text": [
            "<ipython-input-7-550d2793d0dc>:23: FutureWarning: `multichannel` is a deprecated argument name for `structural_similarity`. It will be removed in version 1.0. Please use `channel_axis` instead.\n",
            "  ssim_value = ssim(original, quantized, multichannel=True)\n"
          ]
        },
        {
          "output_type": "stream",
          "name": "stdout",
          "text": [
            "Compressed image saved to /content/image6_compressed.jpg\n",
            "Used 20 colors for compression.\n",
            "Original Size: 1440000 bits, Compressed Size: 900480 bits\n",
            "PSNR: 33.56 dB\n",
            "NCC: 0.9973\n",
            "SSIM: 0.9086\n",
            "Compression Ratio: 1.60\n",
            "Compressing /content/image7.jpeg...\n"
          ]
        },
        {
          "output_type": "stream",
          "name": "stderr",
          "text": [
            "<ipython-input-7-550d2793d0dc>:23: FutureWarning: `multichannel` is a deprecated argument name for `structural_similarity`. It will be removed in version 1.0. Please use `channel_axis` instead.\n",
            "  ssim_value = ssim(original, quantized, multichannel=True)\n"
          ]
        },
        {
          "output_type": "stream",
          "name": "stdout",
          "text": [
            "Compressed image saved to /content/image7_compressed.jpeg\n",
            "Used 20 colors for compression.\n",
            "Original Size: 5981472 bits, Compressed Size: 3738900 bits\n",
            "PSNR: 30.22 dB\n",
            "NCC: 0.9801\n",
            "SSIM: 0.8117\n",
            "Compression Ratio: 1.60\n",
            "Compressing /content/image8.jpeg...\n"
          ]
        },
        {
          "output_type": "stream",
          "name": "stderr",
          "text": [
            "<ipython-input-7-550d2793d0dc>:23: FutureWarning: `multichannel` is a deprecated argument name for `structural_similarity`. It will be removed in version 1.0. Please use `channel_axis` instead.\n",
            "  ssim_value = ssim(original, quantized, multichannel=True)\n"
          ]
        },
        {
          "output_type": "stream",
          "name": "stdout",
          "text": [
            "Compressed image saved to /content/image8_compressed.jpeg\n",
            "Used 20 colors for compression.\n",
            "Original Size: 29491200 bits, Compressed Size: 18432480 bits\n",
            "PSNR: 31.82 dB\n",
            "NCC: 0.9925\n",
            "SSIM: 0.8856\n",
            "Compression Ratio: 1.60\n",
            "Compressing /content/image9.jpeg...\n"
          ]
        },
        {
          "output_type": "stream",
          "name": "stderr",
          "text": [
            "<ipython-input-7-550d2793d0dc>:23: FutureWarning: `multichannel` is a deprecated argument name for `structural_similarity`. It will be removed in version 1.0. Please use `channel_axis` instead.\n",
            "  ssim_value = ssim(original, quantized, multichannel=True)\n"
          ]
        },
        {
          "output_type": "stream",
          "name": "stdout",
          "text": [
            "Compressed image saved to /content/image9_compressed.jpeg\n",
            "Used 20 colors for compression.\n",
            "Original Size: 26204160 bits, Compressed Size: 16378080 bits\n",
            "PSNR: 34.34 dB\n",
            "NCC: 0.9945\n",
            "SSIM: 0.9542\n",
            "Compression Ratio: 1.60\n",
            "Compressing /content/image10.jpg...\n"
          ]
        },
        {
          "output_type": "stream",
          "name": "stderr",
          "text": [
            "<ipython-input-7-550d2793d0dc>:23: FutureWarning: `multichannel` is a deprecated argument name for `structural_similarity`. It will be removed in version 1.0. Please use `channel_axis` instead.\n",
            "  ssim_value = ssim(original, quantized, multichannel=True)\n"
          ]
        },
        {
          "output_type": "stream",
          "name": "stdout",
          "text": [
            "Compressed image saved to /content/image10_compressed.jpg\n",
            "Used 20 colors for compression.\n",
            "Original Size: 11393304 bits, Compressed Size: 7121295 bits\n",
            "PSNR: 32.43 dB\n",
            "NCC: 0.9954\n",
            "SSIM: 0.8470\n",
            "Compression Ratio: 1.60\n",
            "Compressing /content/image11.jpg...\n"
          ]
        },
        {
          "output_type": "stream",
          "name": "stderr",
          "text": [
            "<ipython-input-7-550d2793d0dc>:23: FutureWarning: `multichannel` is a deprecated argument name for `structural_similarity`. It will be removed in version 1.0. Please use `channel_axis` instead.\n",
            "  ssim_value = ssim(original, quantized, multichannel=True)\n"
          ]
        },
        {
          "output_type": "stream",
          "name": "stdout",
          "text": [
            "Compressed image saved to /content/image11_compressed.jpg\n",
            "Used 20 colors for compression.\n",
            "Original Size: 31088640 bits, Compressed Size: 19430880 bits\n",
            "PSNR: 36.99 dB\n",
            "NCC: 0.9981\n",
            "SSIM: 0.9340\n",
            "Compression Ratio: 1.60\n",
            "Compressing /content/image12.jpg...\n"
          ]
        },
        {
          "output_type": "stream",
          "name": "stderr",
          "text": [
            "<ipython-input-7-550d2793d0dc>:23: FutureWarning: `multichannel` is a deprecated argument name for `structural_similarity`. It will be removed in version 1.0. Please use `channel_axis` instead.\n",
            "  ssim_value = ssim(original, quantized, multichannel=True)\n"
          ]
        },
        {
          "output_type": "stream",
          "name": "stdout",
          "text": [
            "Compressed image saved to /content/image12_compressed.jpg\n",
            "Used 20 colors for compression.\n",
            "Original Size: 104878080 bits, Compressed Size: 65549280 bits\n",
            "PSNR: 34.46 dB\n",
            "NCC: 0.9878\n",
            "SSIM: 0.9437\n",
            "Compression Ratio: 1.60\n"
          ]
        }
      ]
    }
  ]
}